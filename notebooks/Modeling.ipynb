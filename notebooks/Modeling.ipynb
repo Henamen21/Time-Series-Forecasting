{
 "cells": [
  {
   "cell_type": "code",
   "execution_count": null,
   "id": "1393f09f",
   "metadata": {},
   "outputs": [],
   "source": [
    "import pandas as pd\n",
    "from statsmodels.tsa.arima.model import ARIMA\n",
    "from statsmodels.graphics.tsaplots import plot_acf, plot_pacf\n",
    "import matplotlib.pyplot as plt\n",
    "import warnings\n",
    "warnings.filterwarnings('ignore')\n",
    "import numpy as np"
   ]
  },
  {
   "cell_type": "code",
   "execution_count": 2,
   "id": "1746a9b9",
   "metadata": {},
   "outputs": [
    {
     "data": {
      "text/html": [
       "<div>\n",
       "<style scoped>\n",
       "    .dataframe tbody tr th:only-of-type {\n",
       "        vertical-align: middle;\n",
       "    }\n",
       "\n",
       "    .dataframe tbody tr th {\n",
       "        vertical-align: top;\n",
       "    }\n",
       "\n",
       "    .dataframe thead th {\n",
       "        text-align: right;\n",
       "    }\n",
       "</style>\n",
       "<table border=\"1\" class=\"dataframe\">\n",
       "  <thead>\n",
       "    <tr style=\"text-align: right;\">\n",
       "      <th></th>\n",
       "      <th>Date</th>\n",
       "      <th>Close</th>\n",
       "      <th>High</th>\n",
       "      <th>Low</th>\n",
       "      <th>Open</th>\n",
       "      <th>Volume</th>\n",
       "    </tr>\n",
       "  </thead>\n",
       "  <tbody>\n",
       "    <tr>\n",
       "      <th>0</th>\n",
       "      <td>2015-07-01</td>\n",
       "      <td>17.943333</td>\n",
       "      <td>18.174667</td>\n",
       "      <td>17.856667</td>\n",
       "      <td>18.073999</td>\n",
       "      <td>31518000</td>\n",
       "    </tr>\n",
       "    <tr>\n",
       "      <th>1</th>\n",
       "      <td>2015-07-02</td>\n",
       "      <td>18.667999</td>\n",
       "      <td>18.830000</td>\n",
       "      <td>18.220667</td>\n",
       "      <td>18.680000</td>\n",
       "      <td>107458500</td>\n",
       "    </tr>\n",
       "    <tr>\n",
       "      <th>2</th>\n",
       "      <td>2015-07-06</td>\n",
       "      <td>18.648001</td>\n",
       "      <td>18.779333</td>\n",
       "      <td>18.420000</td>\n",
       "      <td>18.591999</td>\n",
       "      <td>61828500</td>\n",
       "    </tr>\n",
       "    <tr>\n",
       "      <th>3</th>\n",
       "      <td>2015-07-07</td>\n",
       "      <td>17.858667</td>\n",
       "      <td>18.346666</td>\n",
       "      <td>17.384666</td>\n",
       "      <td>18.333332</td>\n",
       "      <td>91576500</td>\n",
       "    </tr>\n",
       "    <tr>\n",
       "      <th>4</th>\n",
       "      <td>2015-07-08</td>\n",
       "      <td>16.997334</td>\n",
       "      <td>17.386667</td>\n",
       "      <td>16.954000</td>\n",
       "      <td>17.288000</td>\n",
       "      <td>93316500</td>\n",
       "    </tr>\n",
       "  </tbody>\n",
       "</table>\n",
       "</div>"
      ],
      "text/plain": [
       "         Date      Close       High        Low       Open     Volume\n",
       "0  2015-07-01  17.943333  18.174667  17.856667  18.073999   31518000\n",
       "1  2015-07-02  18.667999  18.830000  18.220667  18.680000  107458500\n",
       "2  2015-07-06  18.648001  18.779333  18.420000  18.591999   61828500\n",
       "3  2015-07-07  17.858667  18.346666  17.384666  18.333332   91576500\n",
       "4  2015-07-08  16.997334  17.386667  16.954000  17.288000   93316500"
      ]
     },
     "execution_count": 2,
     "metadata": {},
     "output_type": "execute_result"
    }
   ],
   "source": [
    "df = pd.read_csv('../Data/tsla.csv')\n",
    "df.head()"
   ]
  },
  {
   "cell_type": "code",
   "execution_count": 3,
   "id": "f28611c9",
   "metadata": {},
   "outputs": [],
   "source": [
    "df.set_index('Date', inplace=True)"
   ]
  },
  {
   "cell_type": "code",
   "execution_count": 4,
   "id": "095b5728",
   "metadata": {},
   "outputs": [
    {
     "data": {
      "text/html": [
       "<div>\n",
       "<style scoped>\n",
       "    .dataframe tbody tr th:only-of-type {\n",
       "        vertical-align: middle;\n",
       "    }\n",
       "\n",
       "    .dataframe tbody tr th {\n",
       "        vertical-align: top;\n",
       "    }\n",
       "\n",
       "    .dataframe thead th {\n",
       "        text-align: right;\n",
       "    }\n",
       "</style>\n",
       "<table border=\"1\" class=\"dataframe\">\n",
       "  <thead>\n",
       "    <tr style=\"text-align: right;\">\n",
       "      <th></th>\n",
       "      <th>Close</th>\n",
       "      <th>High</th>\n",
       "      <th>Low</th>\n",
       "      <th>Open</th>\n",
       "      <th>Volume</th>\n",
       "    </tr>\n",
       "    <tr>\n",
       "      <th>Date</th>\n",
       "      <th></th>\n",
       "      <th></th>\n",
       "      <th></th>\n",
       "      <th></th>\n",
       "      <th></th>\n",
       "    </tr>\n",
       "  </thead>\n",
       "  <tbody>\n",
       "    <tr>\n",
       "      <th>2015-07-01</th>\n",
       "      <td>17.943333</td>\n",
       "      <td>18.174667</td>\n",
       "      <td>17.856667</td>\n",
       "      <td>18.073999</td>\n",
       "      <td>31518000</td>\n",
       "    </tr>\n",
       "    <tr>\n",
       "      <th>2015-07-02</th>\n",
       "      <td>18.667999</td>\n",
       "      <td>18.830000</td>\n",
       "      <td>18.220667</td>\n",
       "      <td>18.680000</td>\n",
       "      <td>107458500</td>\n",
       "    </tr>\n",
       "    <tr>\n",
       "      <th>2015-07-06</th>\n",
       "      <td>18.648001</td>\n",
       "      <td>18.779333</td>\n",
       "      <td>18.420000</td>\n",
       "      <td>18.591999</td>\n",
       "      <td>61828500</td>\n",
       "    </tr>\n",
       "    <tr>\n",
       "      <th>2015-07-07</th>\n",
       "      <td>17.858667</td>\n",
       "      <td>18.346666</td>\n",
       "      <td>17.384666</td>\n",
       "      <td>18.333332</td>\n",
       "      <td>91576500</td>\n",
       "    </tr>\n",
       "    <tr>\n",
       "      <th>2015-07-08</th>\n",
       "      <td>16.997334</td>\n",
       "      <td>17.386667</td>\n",
       "      <td>16.954000</td>\n",
       "      <td>17.288000</td>\n",
       "      <td>93316500</td>\n",
       "    </tr>\n",
       "  </tbody>\n",
       "</table>\n",
       "</div>"
      ],
      "text/plain": [
       "                Close       High        Low       Open     Volume\n",
       "Date                                                             \n",
       "2015-07-01  17.943333  18.174667  17.856667  18.073999   31518000\n",
       "2015-07-02  18.667999  18.830000  18.220667  18.680000  107458500\n",
       "2015-07-06  18.648001  18.779333  18.420000  18.591999   61828500\n",
       "2015-07-07  17.858667  18.346666  17.384666  18.333332   91576500\n",
       "2015-07-08  16.997334  17.386667  16.954000  17.288000   93316500"
      ]
     },
     "execution_count": 4,
     "metadata": {},
     "output_type": "execute_result"
    }
   ],
   "source": [
    "df.head()"
   ]
  },
  {
   "cell_type": "code",
   "execution_count": 5,
   "id": "789b0595",
   "metadata": {},
   "outputs": [],
   "source": [
    "train = df[:'2023']\n",
    "test = df['2024':]\n"
   ]
  },
  {
   "cell_type": "code",
   "execution_count": 8,
   "id": "de4f0dbc",
   "metadata": {},
   "outputs": [
    {
     "data": {
      "image/png": "[encoded data removed]",
      "text/plain": [
       "<Figure size 1200x800 with 2 Axes>"
      ]
     },
     "metadata": {},
     "output_type": "display_data"
    }
   ],
   "source": [
    "# Plot ACF and PACF for Order Selection\n",
    "\n",
    "from statsmodels.tsa.stattools import adfuller\n",
    "\n",
    "# Use log to stabilize variance\n",
    "tsla_log = np.log1p(df['Close'].dropna())\n",
    "\n",
    "# Differencing to make series stationary\n",
    "tsla_log_diff = tsla_log.diff().dropna()\n",
    "\n",
    "# Plot ACF and PACF\n",
    "fig, ax = plt.subplots(2, 1, figsize=(12, 8))\n",
    "\n",
    "plot_acf(tsla_log_diff, ax=ax[0], lags=40)\n",
    "ax[0].set_title(\"ACF - Tesla Log Differenced\")\n",
    "\n",
    "plot_pacf(tsla_log_diff, ax=ax[1], lags=40)\n",
    "ax[1].set_title(\"PACF - Tesla Log Differenced\")\n",
    "\n",
    "plt.tight_layout()\n",
    "plt.show()\n"
   ]
  },
  {
   "cell_type": "code",
   "execution_count": 9,
   "id": "ad5c431f",
   "metadata": {},
   "outputs": [
    {
     "name": "stdout",
     "output_type": "stream",
     "text": [
      "                               SARIMAX Results                                \n",
      "==============================================================================\n",
      "Dep. Variable:                  Close   No. Observations:                 2535\n",
      "Model:                 ARIMA(1, 1, 1)   Log Likelihood                4798.518\n",
      "Date:                Wed, 06 Aug 2025   AIC                          -9591.036\n",
      "Time:                        07:25:21   BIC                          -9573.523\n",
      "Sample:                             0   HQIC                         -9584.682\n",
      "                               - 2535                                         \n",
      "Covariance Type:                  opg                                         \n",
      "==============================================================================\n",
      "                 coef    std err          z      P>|z|      [0.025      0.975]\n",
      "------------------------------------------------------------------------------\n",
      "ar.L1          0.1737     13.089      0.013      0.989     -25.480      25.827\n",
      "ma.L1         -0.1748     13.082     -0.013      0.989     -25.815      25.466\n",
      "sigma2         0.0013   2.14e-05     61.930      0.000       0.001       0.001\n",
      "===================================================================================\n",
      "Ljung-Box (L1) (Q):                   0.12   Jarque-Bera (JB):              1937.48\n",
      "Prob(Q):                              0.73   Prob(JB):                         0.00\n",
      "Heteroskedasticity (H):               2.22   Skew:                            -0.05\n",
      "Prob(H) (two-sided):                  0.00   Kurtosis:                         7.28\n",
      "===================================================================================\n",
      "\n",
      "Warnings:\n",
      "[1] Covariance matrix calculated using the outer product of gradients (complex-step).\n"
     ]
    }
   ],
   "source": [
    "# Fit ARIMA model on log-transformed Tesla Close price\n",
    "model = ARIMA(tsla_log, order=(1, 1, 1))\n",
    "model_fit = model.fit()\n",
    "\n",
    "# Summary of the model\n",
    "print(model_fit.summary())\n"
   ]
  },
  {
   "cell_type": "code",
   "execution_count": 22,
   "id": "27173a3d",
   "metadata": {},
   "outputs": [
    {
     "name": "stdout",
     "output_type": "stream",
     "text": [
      "                               SARIMAX Results                                \n",
      "==============================================================================\n",
      "Dep. Variable:                  Close   No. Observations:                 2535\n",
      "Model:                 ARIMA(0, 1, 1)   Log Likelihood                4798.576\n",
      "Date:                Wed, 06 Aug 2025   AIC                          -9593.153\n",
      "Time:                        07:33:10   BIC                          -9581.478\n",
      "Sample:                             0   HQIC                         -9588.917\n",
      "                               - 2535                                         \n",
      "Covariance Type:                  opg                                         \n",
      "==============================================================================\n",
      "                 coef    std err          z      P>|z|      [0.025      0.975]\n",
      "------------------------------------------------------------------------------\n",
      "ma.L1         -0.0073      0.015     -0.486      0.627      -0.037       0.022\n",
      "sigma2         0.0013   2.11e-05     62.788      0.000       0.001       0.001\n",
      "===================================================================================\n",
      "Ljung-Box (L1) (Q):                   0.00   Jarque-Bera (JB):              1931.57\n",
      "Prob(Q):                              0.98   Prob(JB):                         0.00\n",
      "Heteroskedasticity (H):               2.22   Skew:                            -0.05\n",
      "Prob(H) (two-sided):                  0.00   Kurtosis:                         7.28\n",
      "===================================================================================\n",
      "\n",
      "Warnings:\n",
      "[1] Covariance matrix calculated using the outer product of gradients (complex-step).\n"
     ]
    }
   ],
   "source": [
    "# Fit ARIMA model on log-transformed Tesla Close price\n",
    "model = ARIMA(tsla_log, order=(0, 1, 1))\n",
    "model_fit = model.fit()\n",
    "\n",
    "# Summary of the model\n",
    "print(model_fit.summary())\n"
   ]
  },
  {
   "cell_type": "code",
   "execution_count": 23,
   "id": "59b413aa",
   "metadata": {},
   "outputs": [],
   "source": [
    "# Forecast\n",
    "n_test = len(test)\n",
    "forecast = model_fit.forecast(steps=n_test)\n",
    "\n",
    "# If you need confidence intervals (optional)\n",
    "# forecast, stderr, conf_int = model_fit.forecast(steps=n_test, alpha=0.05)\n"
   ]
  },
  {
   "cell_type": "code",
   "execution_count": 16,
   "id": "e81363fd",
   "metadata": {},
   "outputs": [],
   "source": [
    "# Select only the 'Close' column from test data\n",
    "test_close = test['Close']\n",
    "\n",
    "# Also make sure forecast is a 1D array matching the 'Close' predictions\n",
    "forecast_series = pd.Series(forecast, index=test_close.index)\n",
    "\n",
    "# Compare predicted and actual Close prices\n",
    "comparison_df = pd.DataFrame({\n",
    "    'Actual': test_close,\n",
    "    'Forecast': forecast_series\n",
    "})\n"
   ]
  },
  {
   "cell_type": "code",
   "execution_count": 24,
   "id": "6a321bb3",
   "metadata": {},
   "outputs": [
    {
     "data": {
      "text/plain": [
       "Date\n",
       "2024-01-02   NaN\n",
       "2024-01-03   NaN\n",
       "2024-01-04   NaN\n",
       "2024-01-05   NaN\n",
       "2024-01-08   NaN\n",
       "              ..\n",
       "2025-07-24   NaN\n",
       "2025-07-25   NaN\n",
       "2025-07-28   NaN\n",
       "2025-07-29   NaN\n",
       "2025-07-30   NaN\n",
       "Name: predicted_mean, Length: 395, dtype: float64"
      ]
     },
     "execution_count": 24,
     "metadata": {},
     "output_type": "execute_result"
    }
   ],
   "source": [
    "forecast_series"
   ]
  }
 ],
 "metadata": {
  "kernelspec": {
   "display_name": "forcast_venv",
   "language": "python",
   "name": "python3"
  },
  "language_info": {
   "codemirror_mode": {
    "name": "ipython",
    "version": 3
   },
   "file_extension": ".py",
   "mimetype": "text/x-python",
   "name": "python",
   "nbconvert_exporter": "python",
   "pygments_lexer": "ipython3",
   "version": "3.10.0"
  }
 },
 "nbformat": 4,
 "nbformat_minor": 5
}
